{
 "cells": [
  {
   "cell_type": "code",
   "execution_count": null,
   "metadata": {},
   "outputs": [],
   "source": [
    "#Example of how basic sentiment analysis for articles will work:\n",
    "import newspaper\n",
    "import transformers\n",
    "from transformers import pipeline\n",
    "\n",
    "#Example website\n",
    "website = 'https://www.afp.com/en/news-hub'\n",
    "source = newspaper.build(website, memoize_articles=False)"
   ]
  },
  {
   "cell_type": "code",
   "execution_count": null,
   "metadata": {},
   "outputs": [],
   "source": [
    "#populate and return a list of articles\n",
    "def create_text_corpus(site_source):\n",
    "    article_list = []\n",
    "    for article_object in site_source.articles:\n",
    "        if 'www.afp.com/en/' in article_object.url:\n",
    "            article_object.download()\n",
    "            article_object.parse()\n",
    "            article_list.append(article_object.text)\n",
    "    return article_list\n",
    "\n",
    "text_list = create_text_corpus(source)"
   ]
  },
  {
   "cell_type": "code",
   "execution_count": null,
   "metadata": {},
   "outputs": [],
   "source": [
    "#download sentiment analysis model and run on list\n",
    "\n",
    "nlp = pipeline('sentiment-analysis')\n",
    "\n",
    "def sentiment_analysis(lst):\n",
    "    return nlp()"
   ]
  }
 ],
 "metadata": {
  "kernelspec": {
   "display_name": "Python 3",
   "language": "python",
   "name": "python3"
  },
  "language_info": {
   "codemirror_mode": {
    "name": "ipython",
    "version": 3
   },
   "file_extension": ".py",
   "mimetype": "text/x-python",
   "name": "python",
   "nbconvert_exporter": "python",
   "pygments_lexer": "ipython3",
   "version": "3.8.1"
  }
 },
 "nbformat": 4,
 "nbformat_minor": 4
}
