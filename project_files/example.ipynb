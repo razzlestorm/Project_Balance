{
 "cells": [
  {
   "cell_type": "code",
   "execution_count": 1,
   "metadata": {},
   "outputs": [],
   "source": [
    "# Example of how basic sentiment analysis for articles will work:\n",
    "import newspaper\n",
    "import transformers\n",
    "from transformers import pipeline\n",
    "\n",
    "#Example website\n",
    "website = 'https://www.afp.com/en/news-hub'\n",
    "source = newspaper.build(website, memoize_articles=False)"
   ]
  },
  {
   "cell_type": "code",
   "execution_count": 2,
   "metadata": {},
   "outputs": [],
   "source": [
    "# Populate and return a list of articles\n",
    "def create_text_corpus(site_source):\n",
    "    article_list = []\n",
    "    for article_object in site_source.articles:\n",
    "        if 'www.afp.com/en/' in article_object.url:\n",
    "            article_object.download()\n",
    "            article_object.parse()\n",
    "            article_list.append(article_object.text)\n",
    "    return article_list\n",
    "\n",
    "text_list = create_text_corpus(source)"
   ]
  },
  {
   "cell_type": "code",
   "execution_count": 3,
   "metadata": {},
   "outputs": [
    {
     "data": {
      "application/vnd.jupyter.widget-view+json": {
       "model_id": "875f3d1505e44736988f7914c1e8c483",
       "version_major": 2,
       "version_minor": 0
      },
      "text/plain": [
       "HBox(children=(FloatProgress(value=0.0, description='Downloading', max=230.0, style=ProgressStyle(description_…"
      ]
     },
     "metadata": {},
     "output_type": "display_data"
    },
    {
     "name": "stderr",
     "output_type": "stream",
     "text": [
      "Couldn't reach server at 'https://s3.amazonaws.com/models.huggingface.co/bert/distilbert-base-uncased-finetuned-sst-2-english-modelcard.json' to download model card file.\n",
      "Creating an empty model card.\n"
     ]
    },
    {
     "name": "stdout",
     "output_type": "stream",
     "text": [
      "\n",
      "[[{'label': 'NEGATIVE', 'score': 0.989686}], [{'label': 'NEGATIVE', 'score': 0.9962706}], [{'label': 'NEGATIVE', 'score': 0.8204373}], [{'label': 'NEGATIVE', 'score': 0.9958309}], [{'label': 'NEGATIVE', 'score': 0.9968531}], [{'label': 'NEGATIVE', 'score': 0.996197}], [{'label': 'NEGATIVE', 'score': 0.9922673}], [{'label': 'NEGATIVE', 'score': 0.9952388}], [{'label': 'NEGATIVE', 'score': 0.99960434}], [{'label': 'NEGATIVE', 'score': 0.994493}], [{'label': 'NEGATIVE', 'score': 0.9970345}], [{'label': 'NEGATIVE', 'score': 0.99793756}], [{'label': 'POSITIVE', 'score': 0.98300016}], [{'label': 'NEGATIVE', 'score': 0.99484843}], [{'label': 'NEGATIVE', 'score': 0.9928249}], [{'label': 'NEGATIVE', 'score': 0.99697375}], [{'label': 'NEGATIVE', 'score': 0.9959618}], [{'label': 'NEGATIVE', 'score': 0.9977566}], [{'label': 'NEGATIVE', 'score': 0.9890268}], [{'label': 'POSITIVE', 'score': 0.82784617}], [{'label': 'NEGATIVE', 'score': 0.989686}], [{'label': 'NEGATIVE', 'score': 0.9962706}], [{'label': 'NEGATIVE', 'score': 0.8204373}], [{'label': 'NEGATIVE', 'score': 0.9958309}], [{'label': 'NEGATIVE', 'score': 0.9968531}], [{'label': 'NEGATIVE', 'score': 0.996197}], [{'label': 'NEGATIVE', 'score': 0.9922673}], [{'label': 'NEGATIVE', 'score': 0.989686}], [{'label': 'NEGATIVE', 'score': 0.9962706}], [{'label': 'NEGATIVE', 'score': 0.8204373}], [{'label': 'NEGATIVE', 'score': 0.99728423}], [{'label': 'NEGATIVE', 'score': 0.98923624}], [{'label': 'NEGATIVE', 'score': 0.9708823}], [{'label': 'POSITIVE', 'score': 0.9995213}]]\n"
     ]
    }
   ],
   "source": [
    "# Download sentiment analysis model and run on list\n",
    "\n",
    "nlp = pipeline('sentiment-analysis')\n",
    "\n",
    "def sentiment_analysis(lst):\n",
    "    return [nlp(ii) for ii in lst]\n",
    "\n",
    "\n",
    "print(sentiment_analysis(text_list))"
   ]
  },
  {
   "cell_type": "code",
   "execution_count": null,
   "metadata": {},
   "outputs": [],
   "source": [
    "# Probably a better way to do this is create a dictionary with:\n",
    "\"\"\"\n",
    "\n",
    "{keyvalue0: {\n",
    "    'authors': ['Jane Doe'],\n",
    "    'publish_date': datetime.datetime(2019, 12, 30, 0, 0),\n",
    "    'text': 'sample text text ipsem lorem',\n",
    "    'label': 'NEGATIVE',\n",
    "    'score': 0.989686,\n",
    "    'url': 'http://www.sample.com/news/article1234'\n",
    "    },\n",
    " keyvalue1: {\n",
    "    'authors': ['John Doe', 'Jane Doe'],\n",
    "    'publish_date': datetime.datetime(2019, 12, 31, 0, 0),\n",
    "    'text': 'sample text text ipsem lorem',\n",
    "    'label': 'POSITIVE',\n",
    "    'score': 0.999686,\n",
    "    'url': 'http://www.sample.com/news/article12345'\n",
    " }\n",
    "\n",
    "\"\"\"\n",
    "\n",
    "# Will need a way for user to report a bad label, and to flip that label when it is reported enough times."
   ]
  }
 ],
 "metadata": {
  "kernelspec": {
   "display_name": "Python 3",
   "language": "python",
   "name": "python3"
  },
  "language_info": {
   "codemirror_mode": {
    "name": "ipython",
    "version": 3
   },
   "file_extension": ".py",
   "mimetype": "text/x-python",
   "name": "python",
   "nbconvert_exporter": "python",
   "pygments_lexer": "ipython3",
   "version": "3.7.3"
  }
 },
 "nbformat": 4,
 "nbformat_minor": 4
}
